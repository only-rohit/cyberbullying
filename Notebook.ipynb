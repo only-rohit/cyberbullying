{
 "cells": [
  {
   "cell_type": "markdown",
   "metadata": {
    "id": "OD9-Nr9SI48Z"
   },
   "source": [
    "# Importing"
   ]
  },
  {
   "cell_type": "code",
   "execution_count": 2,
   "metadata": {
    "id": "wAClNxeWBP5z"
   },
   "outputs": [
    {
     "name": "stderr",
     "output_type": "stream",
     "text": [
      "c:\\users\\rohit\\appdata\\local\\programs\\python\\python39\\lib\\site-packages\\numpy\\_distributor_init.py:30: UserWarning: loaded more than 1 DLL from .libs:\n",
      "c:\\users\\rohit\\appdata\\local\\programs\\python\\python39\\lib\\site-packages\\numpy\\.libs\\libopenblas.EL2C6PLE4ZYW3ECEVIV3OXXGRN2NRFM2.gfortran-win_amd64.dll\n",
      "c:\\users\\rohit\\appdata\\local\\programs\\python\\python39\\lib\\site-packages\\numpy\\.libs\\libopenblas.FB5AE2TYXYH2IJRDKGDGQ3XBKLKTF43H.gfortran-win_amd64.dll\n",
      "  warnings.warn(\"loaded more than 1 DLL from .libs:\"\n"
     ]
    }
   ],
   "source": [
    "import numpy as np\n",
    "import pandas as pd\n",
    "import matplotlib.pyplot as plt\n",
    "\n",
    "from sklearn.feature_extraction.text import TfidfTransformer, CountVectorizer, TfidfVectorizer\n",
    "from sklearn.metrics import confusion_matrix\n",
    "from sklearn.model_selection import train_test_split\n",
    "\n",
    "from nltk.stem.porter import PorterStemmer\n",
    "import nltk\n",
    "import re, string\n",
    "from nltk.corpus import stopwords\n",
    "\n",
    "from sklearn.linear_model import LogisticRegression\n",
    "from sklearn.ensemble import RandomForestClassifier, AdaBoostClassifier\n",
    "from sklearn.linear_model import LogisticRegression\n",
    "from sklearn.svm import LinearSVC\n",
    "from sklearn.model_selection import train_test_split\n",
    "from sklearn.naive_bayes import GaussianNB\n",
    "from sklearn.tree import DecisionTreeClassifier\n",
    "\n",
    "from sklearn.model_selection import cross_val_score\n",
    "\n",
    "from sklearn.metrics import confusion_matrix\n",
    "from sklearn.metrics import accuracy_score\n",
    "from sklearn.metrics import precision_recall_curve\n",
    "from sklearn.metrics import plot_precision_recall_curve\n",
    "import matplotlib.pyplot as plt\n",
    "from sklearn.metrics import roc_auc_score\n",
    "from sklearn.metrics import roc_curve\n",
    "from sklearn.metrics import classification_report\n",
    "from sklearn import metrics"
   ]
  },
  {
   "cell_type": "markdown",
   "metadata": {
    "id": "dSbaTauxLKzh"
   },
   "source": [
    "# Loading Data"
   ]
  },
  {
   "cell_type": "code",
   "execution_count": 3,
   "metadata": {
    "colab": {
     "base_uri": "https://localhost:8080/"
    },
    "id": "576KVyOxAgSO",
    "outputId": "a4fe589d-7aa0-48a8-f8e5-4c2065e72a84"
   },
   "outputs": [
    {
     "data": {
      "text/plain": [
       "<bound method NDFrame.head of                                                  content  \\\n",
       "0                                 Get fucking real dude.   \n",
       "1       She is as dirty as they come  and that crook ...   \n",
       "2       why did you fuck it up. I could do it all day...   \n",
       "3       Dude they dont finish enclosing the fucking s...   \n",
       "4       WTF are you talking about Men? No men thats n...   \n",
       "...                                                  ...   \n",
       "19996    I dont. But what is complaining about it goi...   \n",
       "19997   Bahah  yeah i&;m totally just gonna&; get pis...   \n",
       "19998       hahahahaha >:) im evil mwahahahahahahahahaha   \n",
       "19999            What&;s something unique about Ohio? :)   \n",
       "20000              Who is the biggest gossiper you know?   \n",
       "\n",
       "                          annotation  extras  \n",
       "0      {'notes': '', 'label': ['1']}     NaN  \n",
       "1      {'notes': '', 'label': ['1']}     NaN  \n",
       "2      {'notes': '', 'label': ['1']}     NaN  \n",
       "3      {'notes': '', 'label': ['1']}     NaN  \n",
       "4      {'notes': '', 'label': ['1']}     NaN  \n",
       "...                              ...     ...  \n",
       "19996  {'notes': '', 'label': ['0']}     NaN  \n",
       "19997  {'notes': '', 'label': ['0']}     NaN  \n",
       "19998  {'notes': '', 'label': ['0']}     NaN  \n",
       "19999  {'notes': '', 'label': ['0']}     NaN  \n",
       "20000  {'notes': '', 'label': ['0']}     NaN  \n",
       "\n",
       "[20001 rows x 3 columns]>"
      ]
     },
     "execution_count": 3,
     "metadata": {},
     "output_type": "execute_result"
    }
   ],
   "source": [
    "url = 'E:/Placements/Projects/Cyberbull/dataset.json'\n",
    "df = pd.read_json(url, lines= True,orient='columns')\n",
    "df.head"
   ]
  },
  {
   "cell_type": "code",
   "execution_count": 16,
   "metadata": {
    "colab": {
     "base_uri": "https://localhost:8080/"
    },
    "id": "WG0QYg2oBu5V",
    "outputId": "9e869be2-4f6e-4fe0-e500-d94c92f72f6d"
   },
   "outputs": [
    {
     "name": "stderr",
     "output_type": "stream",
     "text": [
      "C:\\Users\\Rohit\\AppData\\Local\\Temp\\ipykernel_12348\\1367284056.py:3: SettingWithCopyWarning: \n",
      "A value is trying to be set on a copy of a slice from a DataFrame\n",
      "\n",
      "See the caveats in the documentation: https://pandas.pydata.org/pandas-docs/stable/user_guide/indexing.html#returning-a-view-versus-a-copy\n",
      "  df.annotation[i] = 1\n",
      "C:\\Users\\Rohit\\AppData\\Local\\Temp\\ipykernel_12348\\1367284056.py:5: SettingWithCopyWarning: \n",
      "A value is trying to be set on a copy of a slice from a DataFrame\n",
      "\n",
      "See the caveats in the documentation: https://pandas.pydata.org/pandas-docs/stable/user_guide/indexing.html#returning-a-view-versus-a-copy\n",
      "  df.annotation[i] = 0\n"
     ]
    }
   ],
   "source": [
    "for i in range(0,len(df)):\n",
    "    if df.annotation[i]['label'][0] == '1':\n",
    "        df.annotation[i] = 1\n",
    "    else:\n",
    "        df.annotation[i] = 0"
   ]
  },
  {
   "cell_type": "code",
   "execution_count": 17,
   "metadata": {
    "colab": {
     "base_uri": "https://localhost:8080/",
     "height": 424
    },
    "id": "zY5rDAE_JfP3",
    "outputId": "a4a262ad-998c-4cd2-f837-9aa6e367481e"
   },
   "outputs": [
    {
     "data": {
      "text/html": [
       "<div>\n",
       "<style scoped>\n",
       "    .dataframe tbody tr th:only-of-type {\n",
       "        vertical-align: middle;\n",
       "    }\n",
       "\n",
       "    .dataframe tbody tr th {\n",
       "        vertical-align: top;\n",
       "    }\n",
       "\n",
       "    .dataframe thead th {\n",
       "        text-align: right;\n",
       "    }\n",
       "</style>\n",
       "<table border=\"1\" class=\"dataframe\">\n",
       "  <thead>\n",
       "    <tr style=\"text-align: right;\">\n",
       "      <th></th>\n",
       "      <th>content</th>\n",
       "      <th>annotation</th>\n",
       "    </tr>\n",
       "  </thead>\n",
       "  <tbody>\n",
       "    <tr>\n",
       "      <th>0</th>\n",
       "      <td>Get fucking real dude.</td>\n",
       "      <td>1</td>\n",
       "    </tr>\n",
       "    <tr>\n",
       "      <th>1</th>\n",
       "      <td>She is as dirty as they come  and that crook ...</td>\n",
       "      <td>1</td>\n",
       "    </tr>\n",
       "    <tr>\n",
       "      <th>2</th>\n",
       "      <td>why did you fuck it up. I could do it all day...</td>\n",
       "      <td>1</td>\n",
       "    </tr>\n",
       "    <tr>\n",
       "      <th>3</th>\n",
       "      <td>Dude they dont finish enclosing the fucking s...</td>\n",
       "      <td>1</td>\n",
       "    </tr>\n",
       "    <tr>\n",
       "      <th>4</th>\n",
       "      <td>WTF are you talking about Men? No men thats n...</td>\n",
       "      <td>1</td>\n",
       "    </tr>\n",
       "    <tr>\n",
       "      <th>...</th>\n",
       "      <td>...</td>\n",
       "      <td>...</td>\n",
       "    </tr>\n",
       "    <tr>\n",
       "      <th>19996</th>\n",
       "      <td>I dont. But what is complaining about it goi...</td>\n",
       "      <td>0</td>\n",
       "    </tr>\n",
       "    <tr>\n",
       "      <th>19997</th>\n",
       "      <td>Bahah  yeah i&amp;;m totally just gonna&amp;; get pis...</td>\n",
       "      <td>0</td>\n",
       "    </tr>\n",
       "    <tr>\n",
       "      <th>19998</th>\n",
       "      <td>hahahahaha &gt;:) im evil mwahahahahahahahahaha</td>\n",
       "      <td>0</td>\n",
       "    </tr>\n",
       "    <tr>\n",
       "      <th>19999</th>\n",
       "      <td>What&amp;;s something unique about Ohio? :)</td>\n",
       "      <td>0</td>\n",
       "    </tr>\n",
       "    <tr>\n",
       "      <th>20000</th>\n",
       "      <td>Who is the biggest gossiper you know?</td>\n",
       "      <td>0</td>\n",
       "    </tr>\n",
       "  </tbody>\n",
       "</table>\n",
       "<p>20001 rows × 2 columns</p>\n",
       "</div>"
      ],
      "text/plain": [
       "                                                 content annotation\n",
       "0                                 Get fucking real dude.          1\n",
       "1       She is as dirty as they come  and that crook ...          1\n",
       "2       why did you fuck it up. I could do it all day...          1\n",
       "3       Dude they dont finish enclosing the fucking s...          1\n",
       "4       WTF are you talking about Men? No men thats n...          1\n",
       "...                                                  ...        ...\n",
       "19996    I dont. But what is complaining about it goi...          0\n",
       "19997   Bahah  yeah i&;m totally just gonna&; get pis...          0\n",
       "19998       hahahahaha >:) im evil mwahahahahahahahahaha          0\n",
       "19999            What&;s something unique about Ohio? :)          0\n",
       "20000              Who is the biggest gossiper you know?          0\n",
       "\n",
       "[20001 rows x 2 columns]"
      ]
     },
     "execution_count": 17,
     "metadata": {},
     "output_type": "execute_result"
    }
   ],
   "source": [
    "df.drop(['extras'],axis = 1,inplace = True)\n",
    "df"
   ]
  },
  {
   "cell_type": "code",
   "execution_count": 18,
   "metadata": {
    "colab": {
     "base_uri": "https://localhost:8080/"
    },
    "id": "e2Z-9RpGJkuO",
    "outputId": "977d28c7-16e1-47c2-baed-556803ca382c"
   },
   "outputs": [
    {
     "data": {
      "text/plain": [
       "(20001, 2)"
      ]
     },
     "execution_count": 18,
     "metadata": {},
     "output_type": "execute_result"
    }
   ],
   "source": [
    "df.shape "
   ]
  },
  {
   "cell_type": "markdown",
   "metadata": {
    "id": "XcnWwdqTMYmW"
   },
   "source": [
    "# Visualization"
   ]
  },
  {
   "cell_type": "code",
   "execution_count": 19,
   "metadata": {
    "colab": {
     "base_uri": "https://localhost:8080/",
     "height": 280
    },
    "id": "UwXnu0sQMbQW",
    "outputId": "33df9e7c-c7a9-482a-fd39-735c538b928d"
   },
   "outputs": [
    {
     "data": {
      "text/plain": [
       "<AxesSubplot:>"
      ]
     },
     "execution_count": 19,
     "metadata": {},
     "output_type": "execute_result"
    },
    {
     "data": {
      "image/png": "[encoded data removed]",
      "text/plain": [
       "<Figure size 432x288 with 1 Axes>"
      ]
     },
     "metadata": {
      "needs_background": "light"
     },
     "output_type": "display_data"
    }
   ],
   "source": [
    "df['annotation'].value_counts().sort_index().plot.bar()"
   ]
  },
  {
   "cell_type": "code",
   "execution_count": 20,
   "metadata": {
    "colab": {
     "base_uri": "https://localhost:8080/"
    },
    "id": "3FGX6jJmikrd",
    "outputId": "6b37390c-4108-43f9-f65e-74c1a6d9e91b"
   },
   "outputs": [
    {
     "name": "stdout",
     "output_type": "stream",
     "text": [
      "PosiNon cyber trollingtive:  60.89195540222989 %\n",
      "Cybertrolling:  39.10804459777012 %\n"
     ]
    }
   ],
   "source": [
    "#Biasness\n",
    "print(\"PosiNon cyber trollingtive: \", df.annotation.value_counts()[0]/len(df.annotation)*100,\"%\")\n",
    "print(\"Cybertrolling: \", df.annotation.value_counts()[1]/len(df.annotation)*100,\"%\")"
   ]
  },
  {
   "cell_type": "markdown",
   "metadata": {
    "id": "RGBzITynLQg4"
   },
   "source": [
    "# Preprocessing"
   ]
  },
  {
   "cell_type": "code",
   "execution_count": 21,
   "metadata": {
    "colab": {
     "base_uri": "https://localhost:8080/",
     "height": 460
    },
    "id": "Lp3xpJl3K4at",
    "outputId": "224d212d-9167-4778-eac3-817302a0d9ea"
   },
   "outputs": [
    {
     "name": "stderr",
     "output_type": "stream",
     "text": [
      "[nltk_data] Downloading package stopwords to\n",
      "[nltk_data]     C:\\Users\\Rohit\\AppData\\Roaming\\nltk_data...\n",
      "[nltk_data]   Package stopwords is already up-to-date!\n"
     ]
    },
    {
     "data": {
      "text/html": [
       "<div>\n",
       "<style scoped>\n",
       "    .dataframe tbody tr th:only-of-type {\n",
       "        vertical-align: middle;\n",
       "    }\n",
       "\n",
       "    .dataframe tbody tr th {\n",
       "        vertical-align: top;\n",
       "    }\n",
       "\n",
       "    .dataframe thead th {\n",
       "        text-align: right;\n",
       "    }\n",
       "</style>\n",
       "<table border=\"1\" class=\"dataframe\">\n",
       "  <thead>\n",
       "    <tr style=\"text-align: right;\">\n",
       "      <th></th>\n",
       "      <th>annotation</th>\n",
       "      <th>content_without_puncs</th>\n",
       "    </tr>\n",
       "  </thead>\n",
       "  <tbody>\n",
       "    <tr>\n",
       "      <th>0</th>\n",
       "      <td>1</td>\n",
       "      <td>Get fucking real dude</td>\n",
       "    </tr>\n",
       "    <tr>\n",
       "      <th>1</th>\n",
       "      <td>1</td>\n",
       "      <td>She dirty come crook Rengel Dems fucking corru...</td>\n",
       "    </tr>\n",
       "    <tr>\n",
       "      <th>2</th>\n",
       "      <td>1</td>\n",
       "      <td>fuck up I could day too Lets hour Ping later s...</td>\n",
       "    </tr>\n",
       "    <tr>\n",
       "      <th>3</th>\n",
       "      <td>1</td>\n",
       "      <td>Dude dont finish enclosing fucking showers I h...</td>\n",
       "    </tr>\n",
       "    <tr>\n",
       "      <th>4</th>\n",
       "      <td>1</td>\n",
       "      <td>WTF talking Men No men thats menage thats gay</td>\n",
       "    </tr>\n",
       "    <tr>\n",
       "      <th>...</th>\n",
       "      <td>...</td>\n",
       "      <td>...</td>\n",
       "    </tr>\n",
       "    <tr>\n",
       "      <th>19996</th>\n",
       "      <td>0</td>\n",
       "      <td>I dont But complaining going do</td>\n",
       "    </tr>\n",
       "    <tr>\n",
       "      <th>19997</th>\n",
       "      <td>0</td>\n",
       "      <td>Bahah yeah im totally gonna get pissed talking...</td>\n",
       "    </tr>\n",
       "    <tr>\n",
       "      <th>19998</th>\n",
       "      <td>0</td>\n",
       "      <td>hahahahaha  im evil mwahahahahahahahahaha</td>\n",
       "    </tr>\n",
       "    <tr>\n",
       "      <th>19999</th>\n",
       "      <td>0</td>\n",
       "      <td>Whats something unique Ohio</td>\n",
       "    </tr>\n",
       "    <tr>\n",
       "      <th>20000</th>\n",
       "      <td>0</td>\n",
       "      <td>Who biggest gossiper know</td>\n",
       "    </tr>\n",
       "  </tbody>\n",
       "</table>\n",
       "<p>20001 rows × 2 columns</p>\n",
       "</div>"
      ],
      "text/plain": [
       "      annotation                              content_without_puncs\n",
       "0              1                              Get fucking real dude\n",
       "1              1  She dirty come crook Rengel Dems fucking corru...\n",
       "2              1  fuck up I could day too Lets hour Ping later s...\n",
       "3              1  Dude dont finish enclosing fucking showers I h...\n",
       "4              1      WTF talking Men No men thats menage thats gay\n",
       "...          ...                                                ...\n",
       "19996          0                    I dont But complaining going do\n",
       "19997          0  Bahah yeah im totally gonna get pissed talking...\n",
       "19998          0          hahahahaha  im evil mwahahahahahahahahaha\n",
       "19999          0                       Whats something unique Ohio \n",
       "20000          0                          Who biggest gossiper know\n",
       "\n",
       "[20001 rows x 2 columns]"
      ]
     },
     "execution_count": 21,
     "metadata": {},
     "output_type": "execute_result"
    }
   ],
   "source": [
    "nltk.download('stopwords')\n",
    "stop = stopwords.words('english')\n",
    "\n",
    "regex = re.compile('[%s]' % re.escape(string.punctuation))\n",
    "\n",
    "def test_re(s):\n",
    "    return regex.sub('', s)\n",
    "\n",
    "df ['content_without_stopwords'] = df['content'].apply(lambda x: ' '.join([word for word in x.split() if word not in (stop)]))\n",
    "df ['content_without_puncs'] = df['content_without_stopwords'].apply(lambda x: regex.sub('',x))\n",
    "del df['content_without_stopwords']\n",
    "del df['content']\n",
    "df"
   ]
  },
  {
   "cell_type": "code",
   "execution_count": 22,
   "metadata": {
    "colab": {
     "base_uri": "https://localhost:8080/",
     "height": 460
    },
    "id": "p0zjVqoqME5j",
    "outputId": "c3082213-0088-4205-ef56-26a58ee43628"
   },
   "outputs": [
    {
     "name": "stderr",
     "output_type": "stream",
     "text": [
      "[nltk_data] Downloading package punkt to\n",
      "[nltk_data]     C:\\Users\\Rohit\\AppData\\Roaming\\nltk_data...\n",
      "[nltk_data]   Package punkt is already up-to-date!\n"
     ]
    },
    {
     "data": {
      "text/html": [
       "<div>\n",
       "<style scoped>\n",
       "    .dataframe tbody tr th:only-of-type {\n",
       "        vertical-align: middle;\n",
       "    }\n",
       "\n",
       "    .dataframe tbody tr th {\n",
       "        vertical-align: top;\n",
       "    }\n",
       "\n",
       "    .dataframe thead th {\n",
       "        text-align: right;\n",
       "    }\n",
       "</style>\n",
       "<table border=\"1\" class=\"dataframe\">\n",
       "  <thead>\n",
       "    <tr style=\"text-align: right;\">\n",
       "      <th></th>\n",
       "      <th>annotation</th>\n",
       "      <th>content_tokenize</th>\n",
       "    </tr>\n",
       "  </thead>\n",
       "  <tbody>\n",
       "    <tr>\n",
       "      <th>0</th>\n",
       "      <td>1</td>\n",
       "      <td>get fuck real dude</td>\n",
       "    </tr>\n",
       "    <tr>\n",
       "      <th>1</th>\n",
       "      <td>1</td>\n",
       "      <td>she dirti come crook rengel dem fuck corrupt ...</td>\n",
       "    </tr>\n",
       "    <tr>\n",
       "      <th>2</th>\n",
       "      <td>1</td>\n",
       "      <td>fuck up i could day too let hour ping later s...</td>\n",
       "    </tr>\n",
       "    <tr>\n",
       "      <th>3</th>\n",
       "      <td>1</td>\n",
       "      <td>dude dont finish enclos fuck shower i hate ha...</td>\n",
       "    </tr>\n",
       "    <tr>\n",
       "      <th>4</th>\n",
       "      <td>1</td>\n",
       "      <td>wtf talk men no men that menag that gay</td>\n",
       "    </tr>\n",
       "    <tr>\n",
       "      <th>...</th>\n",
       "      <td>...</td>\n",
       "      <td>...</td>\n",
       "    </tr>\n",
       "    <tr>\n",
       "      <th>19996</th>\n",
       "      <td>0</td>\n",
       "      <td>i dont but complain go do</td>\n",
       "    </tr>\n",
       "    <tr>\n",
       "      <th>19997</th>\n",
       "      <td>0</td>\n",
       "      <td>bahah yeah im total gon na get piss talk you ...</td>\n",
       "    </tr>\n",
       "    <tr>\n",
       "      <th>19998</th>\n",
       "      <td>0</td>\n",
       "      <td>hahahahaha im evil mwahahahahahahahahaha</td>\n",
       "    </tr>\n",
       "    <tr>\n",
       "      <th>19999</th>\n",
       "      <td>0</td>\n",
       "      <td>what someth uniqu ohio</td>\n",
       "    </tr>\n",
       "    <tr>\n",
       "      <th>20000</th>\n",
       "      <td>0</td>\n",
       "      <td>who biggest gossip know</td>\n",
       "    </tr>\n",
       "  </tbody>\n",
       "</table>\n",
       "<p>20001 rows × 2 columns</p>\n",
       "</div>"
      ],
      "text/plain": [
       "      annotation                                   content_tokenize\n",
       "0              1                                 get fuck real dude\n",
       "1              1   she dirti come crook rengel dem fuck corrupt ...\n",
       "2              1   fuck up i could day too let hour ping later s...\n",
       "3              1   dude dont finish enclos fuck shower i hate ha...\n",
       "4              1            wtf talk men no men that menag that gay\n",
       "...          ...                                                ...\n",
       "19996          0                          i dont but complain go do\n",
       "19997          0   bahah yeah im total gon na get piss talk you ...\n",
       "19998          0           hahahahaha im evil mwahahahahahahahahaha\n",
       "19999          0                             what someth uniqu ohio\n",
       "20000          0                            who biggest gossip know\n",
       "\n",
       "[20001 rows x 2 columns]"
      ]
     },
     "execution_count": 22,
     "metadata": {},
     "output_type": "execute_result"
    }
   ],
   "source": [
    "#Stemming\n",
    "porter_stemmer = PorterStemmer()\n",
    "#punctuations\n",
    "nltk.download('punkt')\n",
    "tok_list = []\n",
    "size = df.shape[0]\n",
    "\n",
    "for i in range(size):\n",
    "  word_data = df['content_without_puncs'][i]\n",
    "  nltk_tokens = nltk.word_tokenize(word_data)\n",
    "  final = ''\n",
    "  for w in nltk_tokens:\n",
    "    final = final + ' ' + porter_stemmer.stem(w)\n",
    "  tok_list.append(final)\n",
    "\n",
    "df['content_tokenize'] = tok_list\n",
    "del df['content_without_puncs']\n",
    "df"
   ]
  },
  {
   "cell_type": "code",
   "execution_count": 23,
   "metadata": {
    "colab": {
     "base_uri": "https://localhost:8080/",
     "height": 424
    },
    "id": "aKzuLpipUbLb",
    "outputId": "8e7e1266-406f-40bc-ff63-40d022170c29"
   },
   "outputs": [
    {
     "data": {
      "text/html": [
       "<div>\n",
       "<style scoped>\n",
       "    .dataframe tbody tr th:only-of-type {\n",
       "        vertical-align: middle;\n",
       "    }\n",
       "\n",
       "    .dataframe tbody tr th {\n",
       "        vertical-align: top;\n",
       "    }\n",
       "\n",
       "    .dataframe thead th {\n",
       "        text-align: right;\n",
       "    }\n",
       "</style>\n",
       "<table border=\"1\" class=\"dataframe\">\n",
       "  <thead>\n",
       "    <tr style=\"text-align: right;\">\n",
       "      <th></th>\n",
       "      <th>annotation</th>\n",
       "      <th>content_tokenize</th>\n",
       "      <th>content</th>\n",
       "    </tr>\n",
       "  </thead>\n",
       "  <tbody>\n",
       "    <tr>\n",
       "      <th>0</th>\n",
       "      <td>1</td>\n",
       "      <td>get fuck real dude</td>\n",
       "      <td>get fuck real dude</td>\n",
       "    </tr>\n",
       "    <tr>\n",
       "      <th>1</th>\n",
       "      <td>1</td>\n",
       "      <td>she dirti come crook rengel dem fuck corrupt ...</td>\n",
       "      <td>she dirti come crook rengel dem fuck corrupt ...</td>\n",
       "    </tr>\n",
       "    <tr>\n",
       "      <th>2</th>\n",
       "      <td>1</td>\n",
       "      <td>fuck up i could day too let hour ping later s...</td>\n",
       "      <td>fuck up i could day too let hour ping later s...</td>\n",
       "    </tr>\n",
       "    <tr>\n",
       "      <th>3</th>\n",
       "      <td>1</td>\n",
       "      <td>dude dont finish enclos fuck shower i hate ha...</td>\n",
       "      <td>dude dont finish enclos fuck shower i hate ha...</td>\n",
       "    </tr>\n",
       "    <tr>\n",
       "      <th>4</th>\n",
       "      <td>1</td>\n",
       "      <td>wtf talk men no men that menag that gay</td>\n",
       "      <td>wtf talk men no men that menag that gay</td>\n",
       "    </tr>\n",
       "    <tr>\n",
       "      <th>...</th>\n",
       "      <td>...</td>\n",
       "      <td>...</td>\n",
       "      <td>...</td>\n",
       "    </tr>\n",
       "    <tr>\n",
       "      <th>19996</th>\n",
       "      <td>0</td>\n",
       "      <td>i dont but complain go do</td>\n",
       "      <td>i dont but complain go do</td>\n",
       "    </tr>\n",
       "    <tr>\n",
       "      <th>19997</th>\n",
       "      <td>0</td>\n",
       "      <td>bahah yeah im total gon na get piss talk you ...</td>\n",
       "      <td>bahah yeah im total gon na get piss talk you ...</td>\n",
       "    </tr>\n",
       "    <tr>\n",
       "      <th>19998</th>\n",
       "      <td>0</td>\n",
       "      <td>hahahahaha im evil mwahahahahahahahahaha</td>\n",
       "      <td>hahahahaha im evil mwahahahahahahahahaha</td>\n",
       "    </tr>\n",
       "    <tr>\n",
       "      <th>19999</th>\n",
       "      <td>0</td>\n",
       "      <td>what someth uniqu ohio</td>\n",
       "      <td>what someth uniqu ohio</td>\n",
       "    </tr>\n",
       "    <tr>\n",
       "      <th>20000</th>\n",
       "      <td>0</td>\n",
       "      <td>who biggest gossip know</td>\n",
       "      <td>who biggest gossip know</td>\n",
       "    </tr>\n",
       "  </tbody>\n",
       "</table>\n",
       "<p>20001 rows × 3 columns</p>\n",
       "</div>"
      ],
      "text/plain": [
       "      annotation                                   content_tokenize  \\\n",
       "0              1                                 get fuck real dude   \n",
       "1              1   she dirti come crook rengel dem fuck corrupt ...   \n",
       "2              1   fuck up i could day too let hour ping later s...   \n",
       "3              1   dude dont finish enclos fuck shower i hate ha...   \n",
       "4              1            wtf talk men no men that menag that gay   \n",
       "...          ...                                                ...   \n",
       "19996          0                          i dont but complain go do   \n",
       "19997          0   bahah yeah im total gon na get piss talk you ...   \n",
       "19998          0           hahahahaha im evil mwahahahahahahahahaha   \n",
       "19999          0                             what someth uniqu ohio   \n",
       "20000          0                            who biggest gossip know   \n",
       "\n",
       "                                                 content  \n",
       "0                                     get fuck real dude  \n",
       "1       she dirti come crook rengel dem fuck corrupt ...  \n",
       "2       fuck up i could day too let hour ping later s...  \n",
       "3       dude dont finish enclos fuck shower i hate ha...  \n",
       "4                wtf talk men no men that menag that gay  \n",
       "...                                                  ...  \n",
       "19996                          i dont but complain go do  \n",
       "19997   bahah yeah im total gon na get piss talk you ...  \n",
       "19998           hahahahaha im evil mwahahahahahahahahaha  \n",
       "19999                             what someth uniqu ohio  \n",
       "20000                            who biggest gossip know  \n",
       "\n",
       "[20001 rows x 3 columns]"
      ]
     },
     "execution_count": 23,
     "metadata": {},
     "output_type": "execute_result"
    }
   ],
   "source": [
    "noNums = []\n",
    "for i in range(len(df)):\n",
    "  noNums.append(''.join([i for i in df['content_tokenize'][i] if not i.isdigit()]))\n",
    "\n",
    "df['content'] = noNums\n",
    "df"
   ]
  },
  {
   "cell_type": "code",
   "execution_count": 24,
   "metadata": {
    "id": "Ft1hdwsMte03"
   },
   "outputs": [],
   "source": [
    "tfIdfVectorizer=TfidfVectorizer(use_idf=True, sublinear_tf=True)\n",
    "tfIdf = tfIdfVectorizer.fit_transform(df.content.tolist())"
   ]
  },
  {
   "cell_type": "code",
   "execution_count": 25,
   "metadata": {
    "colab": {
     "base_uri": "https://localhost:8080/"
    },
    "id": "cb2WDQ4nv93h",
    "outputId": "8653b5e0-e439-4868-f17d-72bf3fa4806c"
   },
   "outputs": [
    {
     "name": "stdout",
     "output_type": "stream",
     "text": [
      "  (0, 3598)\t0.5682792040556577\n",
      "  (0, 10534)\t0.6408032598619846\n",
      "  (0, 4665)\t0.3314842764826402\n",
      "  (0, 4896)\t0.3956616014132561\n",
      "  (1, 7497)\t0.1421522208901913\n",
      "  (1, 7670)\t0.18997382467613527\n",
      "  (1, 10707)\t0.3380770158779807\n",
      "  (1, 7868)\t0.17712641457020445\n",
      "  (1, 6881)\t0.2707206754001475\n",
      "  (1, 2649)\t0.3478358132370042\n",
      "  (1, 3127)\t0.36956626902789813\n",
      "  (1, 10686)\t0.36956626902789813\n",
      "  (1, 2791)\t0.3609013757539863\n",
      "  (1, 2453)\t0.20014266836955738\n",
      "  (1, 3306)\t0.294004579420996\n",
      "  (1, 11402)\t0.24231137330135857\n",
      "  (1, 4665)\t0.12302268120056382\n",
      "  (2, 5648)\t0.26264752682375\n",
      "  (2, 1476)\t0.2858475342270202\n",
      "  (2, 14420)\t0.28761927584628644\n",
      "  (2, 11156)\t0.4130661580674724\n",
      "  (2, 7317)\t0.3061308801267633\n",
      "  (2, 9784)\t0.38298243181872793\n",
      "  (2, 5956)\t0.28144866948736874\n",
      "  (2, 7434)\t0.24199503289435126\n",
      "  :\t:\n",
      "  (19997, 8527)\t0.362558005670761\n",
      "  (19997, 14527)\t0.1829917686470462\n",
      "  (19997, 364)\t0.2524980709313037\n",
      "  (19997, 8632)\t0.19487099515279527\n",
      "  (19997, 5039)\t0.21529577669215724\n",
      "  (19997, 14639)\t0.15162817445998714\n",
      "  (19997, 5311)\t0.2322934882970198\n",
      "  (19997, 9798)\t0.22212274676003707\n",
      "  (19997, 13161)\t0.22711912398563924\n",
      "  (19997, 6367)\t0.1396437116782225\n",
      "  (19997, 12782)\t0.14437044050700218\n",
      "  (19997, 12583)\t0.21638447818263024\n",
      "  (19997, 4896)\t0.14751463907596812\n",
      "  (19998, 8599)\t0.6474267500657062\n",
      "  (19998, 5355)\t0.5240398795250955\n",
      "  (19998, 4014)\t0.5046761457592059\n",
      "  (19998, 6367)\t0.22698633410034566\n",
      "  (19999, 13559)\t0.6577171835959204\n",
      "  (19999, 9144)\t0.5711145182804813\n",
      "  (19999, 11870)\t0.38585942493978787\n",
      "  (19999, 14101)\t0.30388948253771536\n",
      "  (20000, 5085)\t0.7029240479741253\n",
      "  (20000, 1246)\t0.5142345992116426\n",
      "  (20000, 14161)\t0.4012493121480635\n",
      "  (20000, 7153)\t0.28365392515178917\n"
     ]
    }
   ],
   "source": [
    "print(tfIdf)"
   ]
  },
  {
   "cell_type": "code",
   "execution_count": 26,
   "metadata": {
    "colab": {
     "base_uri": "https://localhost:8080/"
    },
    "id": "oiS6vofL6oVg",
    "outputId": "265c86aa-800a-47d5-92cd-e58c11689a6d"
   },
   "outputs": [
    {
     "name": "stdout",
     "output_type": "stream",
     "text": [
      "(20001, 14783)\n"
     ]
    }
   ],
   "source": [
    "print(tfIdf.shape) # means total rows  20001 with 14783 features"
   ]
  },
  {
   "cell_type": "code",
   "execution_count": 27,
   "metadata": {
    "colab": {
     "base_uri": "https://localhost:8080/"
    },
    "id": "iTtnFAZUwC4q",
    "outputId": "fae8f5f8-a6a9-4926-875b-bf40ab0578b3"
   },
   "outputs": [
    {
     "name": "stdout",
     "output_type": "stream",
     "text": [
      "         TF-IDF\n",
      "sched  0.413066\n",
      "ping   0.382982\n",
      "later  0.306131\n",
      "write  0.287619\n",
      "book   0.285848\n",
      "hour   0.281449\n",
      "here   0.262648\n",
      "let    0.241995\n",
      "up     0.237401\n",
      "could  0.223151\n"
     ]
    }
   ],
   "source": [
    "df2 = pd.DataFrame(tfIdf[2].T.todense(), index=tfIdfVectorizer.get_feature_names(), columns=[\"TF-IDF\"]) #for second entry only(just to check if working)\n",
    "df2 = df2.sort_values('TF-IDF', ascending=False)\n",
    "print (df2.head(10))"
   ]
  },
  {
   "cell_type": "code",
   "execution_count": 28,
   "metadata": {
    "colab": {
     "base_uri": "https://localhost:8080/"
    },
    "id": "YmJnUKdTwfKB",
    "outputId": "7d5be515-c14d-4c5f-bbae-ab0bacecd528"
   },
   "outputs": [
    {
     "name": "stdout",
     "output_type": "stream",
     "text": [
      "        aa  aaaaaaaaaa  aaaaaanndgummi  aaaagh  aaaawwwww  aaand  \\\n",
      "0      0.0         0.0             0.0     0.0        0.0    0.0   \n",
      "1      0.0         0.0             0.0     0.0        0.0    0.0   \n",
      "2      0.0         0.0             0.0     0.0        0.0    0.0   \n",
      "3      0.0         0.0             0.0     0.0        0.0    0.0   \n",
      "4      0.0         0.0             0.0     0.0        0.0    0.0   \n",
      "...    ...         ...             ...     ...        ...    ...   \n",
      "19996  0.0         0.0             0.0     0.0        0.0    0.0   \n",
      "19997  0.0         0.0             0.0     0.0        0.0    0.0   \n",
      "19998  0.0         0.0             0.0     0.0        0.0    0.0   \n",
      "19999  0.0         0.0             0.0     0.0        0.0    0.0   \n",
      "20000  0.0         0.0             0.0     0.0        0.0    0.0   \n",
      "\n",
      "       aaanyyywhoooooooo  aaargh  aaarrrg  aah  ...  zon  zone  zoo  zoom  \\\n",
      "0                    0.0     0.0      0.0  0.0  ...  0.0   0.0  0.0   0.0   \n",
      "1                    0.0     0.0      0.0  0.0  ...  0.0   0.0  0.0   0.0   \n",
      "2                    0.0     0.0      0.0  0.0  ...  0.0   0.0  0.0   0.0   \n",
      "3                    0.0     0.0      0.0  0.0  ...  0.0   0.0  0.0   0.0   \n",
      "4                    0.0     0.0      0.0  0.0  ...  0.0   0.0  0.0   0.0   \n",
      "...                  ...     ...      ...  ...  ...  ...   ...  ...   ...   \n",
      "19996                0.0     0.0      0.0  0.0  ...  0.0   0.0  0.0   0.0   \n",
      "19997                0.0     0.0      0.0  0.0  ...  0.0   0.0  0.0   0.0   \n",
      "19998                0.0     0.0      0.0  0.0  ...  0.0   0.0  0.0   0.0   \n",
      "19999                0.0     0.0      0.0  0.0  ...  0.0   0.0  0.0   0.0   \n",
      "20000                0.0     0.0      0.0  0.0  ...  0.0   0.0  0.0   0.0   \n",
      "\n",
      "       zro  zucker  zune  zzzz  zzzzzz  zzzzzzzz  \n",
      "0      0.0     0.0   0.0   0.0     0.0       0.0  \n",
      "1      0.0     0.0   0.0   0.0     0.0       0.0  \n",
      "2      0.0     0.0   0.0   0.0     0.0       0.0  \n",
      "3      0.0     0.0   0.0   0.0     0.0       0.0  \n",
      "4      0.0     0.0   0.0   0.0     0.0       0.0  \n",
      "...    ...     ...   ...   ...     ...       ...  \n",
      "19996  0.0     0.0   0.0   0.0     0.0       0.0  \n",
      "19997  0.0     0.0   0.0   0.0     0.0       0.0  \n",
      "19998  0.0     0.0   0.0   0.0     0.0       0.0  \n",
      "19999  0.0     0.0   0.0   0.0     0.0       0.0  \n",
      "20000  0.0     0.0   0.0   0.0     0.0       0.0  \n",
      "\n",
      "[20001 rows x 14783 columns]\n"
     ]
    }
   ],
   "source": [
    "dfx = pd.DataFrame(tfIdf.toarray(), columns = tfIdfVectorizer.get_feature_names())\n",
    "print(dfx)"
   ]
  },
  {
   "cell_type": "code",
   "execution_count": 29,
   "metadata": {
    "id": "dPnN_5Zs5oRT"
   },
   "outputs": [],
   "source": [
    "def display_scores(vectorizer, tfidf_result):\n",
    "    scores = zip(vectorizer.get_feature_names(),\n",
    "                 np.asarray(tfidf_result.sum(axis=0)).ravel())\n",
    "    sorted_scores = sorted(scores, key=lambda x: x[1], reverse=True)\n",
    "    i=0\n",
    "    for item in sorted_scores:\n",
    "        print (\"{0:50} Score: {1}\".format(item[0], item[1]))\n",
    "        i = i+1\n",
    "        if (i > 25):\n",
    "          break"
   ]
  },
  {
   "cell_type": "code",
   "execution_count": 30,
   "metadata": {
    "colab": {
     "base_uri": "https://localhost:8080/"
    },
    "id": "Fhclr5Bs54f5",
    "outputId": "661b6988-f851-4045-b1d4-10e427328729"
   },
   "outputs": [
    {
     "name": "stdout",
     "output_type": "stream",
     "text": [
      "hate                                               Score: 533.8157298036014\n",
      "fuck                                               Score: 503.76150769255435\n",
      "damn                                               Score: 482.3875012051478\n",
      "suck                                               Score: 407.37790877127185\n",
      "ass                                                Score: 337.54089621427744\n",
      "that                                               Score: 311.6250930420745\n",
      "lol                                                Score: 298.0085779872157\n",
      "im                                                 Score: 296.0216055277791\n",
      "like                                               Score: 287.8183474868775\n",
      "you                                                Score: 284.7850587424088\n",
      "it                                                 Score: 254.75722294501585\n",
      "get                                                Score: 253.19747902607998\n",
      "what                                               Score: 221.43673623523864\n",
      "know                                               Score: 211.53595900888456\n",
      "would                                              Score: 202.5073882820925\n",
      "bitch                                              Score: 193.08800391463464\n",
      "ye                                                 Score: 182.22364463196365\n",
      "love                                               Score: 181.49014270754344\n",
      "go                                                 Score: 180.2588319545915\n",
      "haha                                               Score: 179.29466045019018\n",
      "think                                              Score: 178.9039058038677\n",
      "one                                                Score: 174.16019276608517\n",
      "do                                                 Score: 160.57524593088053\n",
      "time                                               Score: 160.1100301847739\n",
      "gay                                                Score: 159.5820454915121\n",
      "peopl                                              Score: 151.04499856119287\n"
     ]
    }
   ],
   "source": [
    "#top 25 words\n",
    "display_scores(tfIdfVectorizer, tfIdf)"
   ]
  },
  {
   "cell_type": "code",
   "execution_count": 31,
   "metadata": {
    "colab": {
     "base_uri": "https://localhost:8080/"
    },
    "id": "nQZngbDHd4x_",
    "outputId": "90e094f7-88c1-40e6-ffc5-569efd45374d"
   },
   "outputs": [
    {
     "name": "stdout",
     "output_type": "stream",
     "text": [
      "(16000, 14783)\n",
      "(16000,)\n",
      "(4001, 14783)\n",
      "(4001,)\n"
     ]
    }
   ],
   "source": [
    "X=tfIdf.toarray()\n",
    "y = np.array(df.annotation.tolist())\n",
    "#Spltting\n",
    "X_train, X_test, y_train, y_test = train_test_split(X, y, test_size=0.2, random_state=0)\n",
    "\n",
    "print(X_train.shape)\n",
    "print(y_train.shape)\n",
    "print(X_test.shape)\n",
    "print(y_test.shape)"
   ]
  },
  {
   "cell_type": "code",
   "execution_count": 32,
   "metadata": {
    "colab": {
     "base_uri": "https://localhost:8080/"
    },
    "id": "-SjTzm2fjKEE",
    "outputId": "fb397371-833a-40c2-e167-cb0a0cab6b5a"
   },
   "outputs": [
    {
     "name": "stdout",
     "output_type": "stream",
     "text": [
      "[[   0    1]\n",
      " [9750 6250]]\n"
     ]
    }
   ],
   "source": [
    "#Training data biasness\n",
    "unique_elements, counts_elements = np.unique(y_train, return_counts=True)\n",
    "print(np.asarray((unique_elements, counts_elements)))"
   ]
  },
  {
   "cell_type": "code",
   "execution_count": 33,
   "metadata": {
    "colab": {
     "base_uri": "https://localhost:8080/"
    },
    "id": "dkt2VjU8kXLl",
    "outputId": "bc0f3d3d-c2c2-4632-aac6-adc90b045cbb"
   },
   "outputs": [
    {
     "name": "stdout",
     "output_type": "stream",
     "text": [
      "[[   0    1]\n",
      " [2429 1572]]\n"
     ]
    }
   ],
   "source": [
    "#Test Data\n",
    "unique_elements, counts_elements = np.unique(y_test, return_counts=True)\n",
    "print(np.asarray((unique_elements, counts_elements)))"
   ]
  },
  {
   "cell_type": "code",
   "execution_count": 34,
   "metadata": {
    "colab": {
     "base_uri": "https://localhost:8080/"
    },
    "id": "vEkoOucMrtcT",
    "outputId": "d4c98288-7a56-4da3-e1f5-a63001e1adb9"
   },
   "outputs": [],
   "source": [
    "#Random oversampling on training data\n",
    "from imblearn.over_sampling import RandomOverSampler\n",
    "\n",
    "oversample = RandomOverSampler(sampling_strategy='not majority')\n",
    "X_over, y_over = oversample.fit_resample(X_train, y_train)"
   ]
  },
  {
   "cell_type": "code",
   "execution_count": 35,
   "metadata": {
    "colab": {
     "base_uri": "https://localhost:8080/"
    },
    "id": "6uPLIoFAsQFf",
    "outputId": "c044bb82-9088-4952-d240-9ca5c1a518f3"
   },
   "outputs": [
    {
     "name": "stdout",
     "output_type": "stream",
     "text": [
      "(19500, 14783)\n",
      "(19500,)\n"
     ]
    }
   ],
   "source": [
    "print(X_over.shape)\n",
    "print(y_over.shape)"
   ]
  },
  {
   "cell_type": "code",
   "execution_count": 36,
   "metadata": {
    "colab": {
     "base_uri": "https://localhost:8080/"
    },
    "id": "QbrJ3WGiyPp3",
    "outputId": "c1a7cd61-3eb5-4de9-a156-0360783e8955"
   },
   "outputs": [
    {
     "name": "stdout",
     "output_type": "stream",
     "text": [
      "[[   0    1]\n",
      " [9750 9750]]\n"
     ]
    }
   ],
   "source": [
    "unique_elements, counts_elements = np.unique(y_over, return_counts=True)\n",
    "print(np.asarray((unique_elements, counts_elements)))"
   ]
  },
  {
   "cell_type": "markdown",
   "metadata": {
    "id": "iuMzc-_HHn16"
   },
   "source": [
    "# Training and Calculating Scores"
   ]
  },
  {
   "cell_type": "code",
   "execution_count": 37,
   "metadata": {
    "id": "cEthYYxSJNiq"
   },
   "outputs": [],
   "source": [
    "def getStatsFromModel(model):\n",
    "  print(classification_report(y_test, y_pred))\n",
    "  disp = plot_precision_recall_curve(model, X_test, y_test)\n",
    "  disp.ax_.set_title('2-class Precision-Recall curve: '\n",
    "                   'AP={0:0.2f}')\n",
    "  \n",
    "  logit_roc_auc = roc_auc_score(y_test, model.predict(X_test))\n",
    "  fpr, tpr, thresholds = roc_curve(y_test, model.predict_proba(X_test)[:,1])\n",
    "  plt.figure()\n",
    "  plt.plot(fpr, tpr, label='(area = %0.2f)' % logit_roc_auc)\n",
    "  plt.plot([0, 1], [0, 1],'r--')\n",
    "  plt.xlim([0.0, 1.0])\n",
    "  plt.ylim([0.0, 1.05])\n",
    "  plt.xlabel('False Positive Rate')\n",
    "  plt.ylabel('True Positive Rate')\n",
    "  plt.title('Receiver operating characteristic')\n",
    "  plt.legend(loc=\"lower right\")\n",
    "  plt.savefig('Log_ROC')\n",
    "  plt.show()"
   ]
  },
  {
   "cell_type": "markdown",
   "metadata": {
    "id": "yO0CzuCxHxVb"
   },
   "source": [
    "## Normal Methods"
   ]
  },
  {
   "cell_type": "code",
   "execution_count": 38,
   "metadata": {
    "colab": {
     "base_uri": "https://localhost:8080/",
     "height": 809
    },
    "id": "4NfNEOO07efX",
    "outputId": "f6f82b76-b87b-4dcb-b1a7-357bf4b5adf6"
   },
   "outputs": [
    {
     "name": "stdout",
     "output_type": "stream",
     "text": [
      "Score: 0.6163459135216196\n",
      "Confusion Matrix: \n",
      " [[ 925 1504]\n",
      " [  31 1541]]\n",
      "              precision    recall  f1-score   support\n",
      "\n",
      "           0       0.97      0.38      0.55      2429\n",
      "           1       0.51      0.98      0.67      1572\n",
      "\n",
      "    accuracy                           0.62      4001\n",
      "   macro avg       0.74      0.68      0.61      4001\n",
      "weighted avg       0.79      0.62      0.59      4001\n",
      "\n"
     ]
    },
    {
     "data": {
      "image/png": "[encoded data removed]",
      "text/plain": [
       "<Figure size 432x288 with 1 Axes>"
      ]
     },
     "metadata": {
      "needs_background": "light"
     },
     "output_type": "display_data"
    },
    {
     "data": {
      "image/png": "[encoded data removed]",
      "text/plain": [
       "<Figure size 432x288 with 1 Axes>"
      ]
     },
     "metadata": {
      "needs_background": "light"
     },
     "output_type": "display_data"
    }
   ],
   "source": [
    "#Supervised Methods\n",
    "# 3 normal methods\n",
    "# 2 ensemble methods\n",
    "gnb = GaussianNB()\n",
    "gnbmodel = gnb.fit(X_over, y_over)\n",
    "y_pred = gnbmodel.predict(X_test)\n",
    "print (\"Score:\", gnbmodel.score(X_test, y_test))\n",
    "print(\"Confusion Matrix: \\n\", confusion_matrix(y_test, y_pred))\n",
    "getStatsFromModel(gnb)"
   ]
  },
  {
   "cell_type": "code",
   "execution_count": 39,
   "metadata": {
    "colab": {
     "base_uri": "https://localhost:8080/",
     "height": 809
    },
    "id": "S4B2JeZD8POe",
    "outputId": "df4f9193-e130-4c5e-f1c1-8252859dcdb1"
   },
   "outputs": [
    {
     "name": "stdout",
     "output_type": "stream",
     "text": [
      "Accuracy:  0.8050487378155461\n",
      "Confusion Matrix: \n",
      " [[1904  525]\n",
      " [ 255 1317]]\n",
      "              precision    recall  f1-score   support\n",
      "\n",
      "           0       0.88      0.78      0.83      2429\n",
      "           1       0.71      0.84      0.77      1572\n",
      "\n",
      "    accuracy                           0.81      4001\n",
      "   macro avg       0.80      0.81      0.80      4001\n",
      "weighted avg       0.82      0.81      0.81      4001\n",
      "\n"
     ]
    },
    {
     "data": {
      "image/png": "[encoded data removed]",
      "text/plain": [
       "<Figure size 432x288 with 1 Axes>"
      ]
     },
     "metadata": {
      "needs_background": "light"
     },
     "output_type": "display_data"
    },
    {
     "data": {
      "image/png": "[encoded data removed]",
      "text/plain": [
       "<Figure size 432x288 with 1 Axes>"
      ]
     },
     "metadata": {
      "needs_background": "light"
     },
     "output_type": "display_data"
    }
   ],
   "source": [
    "lgr = LogisticRegression()\n",
    "lgr.fit(X_over, y_over)\n",
    "y_pred = lgr.predict(X_test)\n",
    "print(\"Accuracy: \",metrics.accuracy_score(y_test, y_pred))\n",
    "print(\"Confusion Matrix: \\n\", confusion_matrix(y_test, y_pred))\n",
    "getStatsFromModel(lgr)"
   ]
  },
  {
   "cell_type": "code",
   "execution_count": 40,
   "metadata": {
    "colab": {
     "base_uri": "https://localhost:8080/",
     "height": 809
    },
    "id": "fywHEHa845Wt",
    "outputId": "5f347486-8f2d-480e-8182-c4023e13b866"
   },
   "outputs": [
    {
     "name": "stdout",
     "output_type": "stream",
     "text": [
      "Accuracy:  0.8475381154711322\n",
      "Confusion Matrix: \n",
      " [[1884  545]\n",
      " [  65 1507]]\n",
      "              precision    recall  f1-score   support\n",
      "\n",
      "           0       0.97      0.78      0.86      2429\n",
      "           1       0.73      0.96      0.83      1572\n",
      "\n",
      "    accuracy                           0.85      4001\n",
      "   macro avg       0.85      0.87      0.85      4001\n",
      "weighted avg       0.88      0.85      0.85      4001\n",
      "\n"
     ]
    },
    {
     "data": {
      "image/png": "[encoded data removed]",
      "text/plain": [
       "<Figure size 432x288 with 1 Axes>"
      ]
     },
     "metadata": {
      "needs_background": "light"
     },
     "output_type": "display_data"
    },
    {
     "data": {
      "image/png": "[encoded data removed]",
      "text/plain": [
       "<Figure size 432x288 with 1 Axes>"
      ]
     },
     "metadata": {
      "needs_background": "light"
     },
     "output_type": "display_data"
    }
   ],
   "source": [
    "dtc = DecisionTreeClassifier()\n",
    "dtc.fit(X_over, y_over)\n",
    "y_pred = dtc.predict(X_test)\n",
    "print(\"Accuracy: \",metrics.accuracy_score(y_test, y_pred))\n",
    "print(\"Confusion Matrix: \\n\", confusion_matrix(y_test, y_pred))\n",
    "getStatsFromModel(dtc)"
   ]
  },
  {
   "cell_type": "markdown",
   "metadata": {
    "id": "UcznCIZmH1bp"
   },
   "source": [
    "## Ensemble Methods"
   ]
  },
  {
   "cell_type": "code",
   "execution_count": 41,
   "metadata": {
    "colab": {
     "base_uri": "https://localhost:8080/",
     "height": 809
    },
    "id": "fpXSkiZd5eft",
    "outputId": "f578168f-a201-46b2-dde8-73b5a46f45c8"
   },
   "outputs": [
    {
     "name": "stdout",
     "output_type": "stream",
     "text": [
      "Accuracy:  0.7195701074731318\n",
      "Confusion Matrix: \n",
      " [[1755  674]\n",
      " [ 448 1124]]\n",
      "              precision    recall  f1-score   support\n",
      "\n",
      "           0       0.80      0.72      0.76      2429\n",
      "           1       0.63      0.72      0.67      1572\n",
      "\n",
      "    accuracy                           0.72      4001\n",
      "   macro avg       0.71      0.72      0.71      4001\n",
      "weighted avg       0.73      0.72      0.72      4001\n",
      "\n"
     ]
    },
    {
     "data": {
      "image/png": "[encoded data removed]",
      "text/plain": [
       "<Figure size 432x288 with 1 Axes>"
      ]
     },
     "metadata": {
      "needs_background": "light"
     },
     "output_type": "display_data"
    },
    {
     "data": {
      "image/png": "[encoded data removed]",
      "text/plain": [
       "<Figure size 432x288 with 1 Axes>"
      ]
     },
     "metadata": {
      "needs_background": "light"
     },
     "output_type": "display_data"
    }
   ],
   "source": [
    "#Ensemble methods from here \n",
    "abc = AdaBoostClassifier() \n",
    "abc.fit(X_over, y_over)\n",
    "y_pred = abc.predict(X_test)\n",
    "print(\"Accuracy: \",metrics.accuracy_score(y_test, y_pred))\n",
    "print(\"Confusion Matrix: \\n\", confusion_matrix(y_test, y_pred))\n",
    "getStatsFromModel(abc)"
   ]
  },
  {
   "cell_type": "code",
   "execution_count": 42,
   "metadata": {
    "colab": {
     "base_uri": "https://localhost:8080/"
    },
    "id": "8j2_O4GXe9LY",
    "outputId": "2345f253-efd6-43fe-bd6c-da1c96979b72"
   },
   "outputs": [
    {
     "name": "stderr",
     "output_type": "stream",
     "text": [
      "[Parallel(n_jobs=1)]: Using backend SequentialBackend with 1 concurrent workers.\n",
      "[Parallel(n_jobs=1)]: Done 100 out of 100 | elapsed: 14.7min finished\n",
      "[Parallel(n_jobs=1)]: Using backend SequentialBackend with 1 concurrent workers.\n",
      "[Parallel(n_jobs=1)]: Done 100 out of 100 | elapsed:    1.0s finished\n",
      "[Parallel(n_jobs=1)]: Using backend SequentialBackend with 1 concurrent workers.\n",
      "[Parallel(n_jobs=1)]: Done 100 out of 100 | elapsed:    0.9s finished\n",
      "[Parallel(n_jobs=1)]: Using backend SequentialBackend with 1 concurrent workers.\n"
     ]
    },
    {
     "name": "stdout",
     "output_type": "stream",
     "text": [
      "Score: 0.9120219945013747\n",
      "Confusion Matrix: \n",
      " [[2153  276]\n",
      " [  76 1496]]\n",
      "              precision    recall  f1-score   support\n",
      "\n",
      "           0       0.97      0.89      0.92      2429\n",
      "           1       0.84      0.95      0.89      1572\n",
      "\n",
      "    accuracy                           0.91      4001\n",
      "   macro avg       0.91      0.92      0.91      4001\n",
      "weighted avg       0.92      0.91      0.91      4001\n",
      "\n"
     ]
    },
    {
     "name": "stderr",
     "output_type": "stream",
     "text": [
      "[Parallel(n_jobs=1)]: Done 100 out of 100 | elapsed:    0.9s finished\n",
      "[Parallel(n_jobs=1)]: Using backend SequentialBackend with 1 concurrent workers.\n",
      "[Parallel(n_jobs=1)]: Done 100 out of 100 | elapsed:    0.9s finished\n",
      "[Parallel(n_jobs=1)]: Using backend SequentialBackend with 1 concurrent workers.\n",
      "[Parallel(n_jobs=1)]: Done 100 out of 100 | elapsed:    1.0s finished\n"
     ]
    },
    {
     "data": {
      "image/png": "[encoded data removed]",
      "text/plain": [
       "<Figure size 432x288 with 1 Axes>"
      ]
     },
     "metadata": {
      "needs_background": "light"
     },
     "output_type": "display_data"
    },
    {
     "data": {
      "image/png": "[encoded data removed]",
      "text/plain": [
       "<Figure size 432x288 with 1 Axes>"
      ]
     },
     "metadata": {
      "needs_background": "light"
     },
     "output_type": "display_data"
    }
   ],
   "source": [
    "rfc = RandomForestClassifier(verbose=True) #uses randomized decision trees\n",
    "rfcmodel = rfc.fit(X_over, y_over)\n",
    "y_pred = rfc.predict(X_test)\n",
    "print (\"Score:\", rfcmodel.score(X_test, y_test))\n",
    "print(\"Confusion Matrix: \\n\", confusion_matrix(y_test, y_pred))\n",
    "getStatsFromModel(rfc)"
   ]
  },
  {
   "cell_type": "markdown",
   "metadata": {
    "id": "dyz031KMH-7K"
   },
   "source": [
    "## Requires High RAM and processing time - Not used"
   ]
  },
  {
   "cell_type": "code",
   "execution_count": 43,
   "metadata": {
    "id": "QlCYpZfPmEXA"
   },
   "outputs": [],
   "source": [
    "# Model, SVM\n",
    "# from sklearn import svm\n",
    "\n",
    "\n",
    "# clf = svm.SVC(kernel='linear', verbose=True)\n",
    "# clf.fit(X_over, y_over)\n",
    "# y_pred = clf.predict(X_test)\n",
    "# print(\"Accuracy: \",metrics.accuracy_score(y_test, y_pred))\n",
    "# print(\"Confusion Matrix: \\n\", confusion_matrix(y_test, y_pred))\n",
    "# getStatsFromModel(clf)"
   ]
  },
  {
   "cell_type": "code",
   "execution_count": 44,
   "metadata": {
    "id": "VKzSCZ4_xYOM"
   },
   "outputs": [],
   "source": [
    "# from sklearn.neural_network import MLPClassifier\n",
    "# mlp = MLPClassifier(hidden_layer_sizes=(100,100,100,10), max_iter=200, verbose=True)\n",
    "# mlp.fit(X_over,y_over)\n",
    "# print(\"Confusion Matrix: \\n\", confusion_matrix(y_test, y_pred))\n",
    "# getStatsFromModel(mlp)"
   ]
  },
  {
   "cell_type": "code",
   "execution_count": null,
   "metadata": {
    "id": "ZFpeFb-zA2Z5"
   },
   "outputs": [],
   "source": []
  }
 ],
 "metadata": {
  "colab": {
   "collapsed_sections": [],
   "name": "Copy of ML Project.ipynb",
   "provenance": []
  },
  "kernelspec": {
   "display_name": "Python 3 (ipykernel)",
   "language": "python",
   "name": "python3"
  },
  "language_info": {
   "codemirror_mode": {
    "name": "ipython",
    "version": 3
   },
   "file_extension": ".py",
   "mimetype": "text/x-python",
   "name": "python",
   "nbconvert_exporter": "python",
   "pygments_lexer": "ipython3",
   "version": "3.9.6"
  }
 },
 "nbformat": 4,
 "nbformat_minor": 1
}
